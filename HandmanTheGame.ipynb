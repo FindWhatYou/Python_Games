{
  "nbformat": 4,
  "nbformat_minor": 0,
  "metadata": {
    "colab": {
      "provenance": [],
      "authorship_tag": "ABX9TyNwlYq5D9de/IWJld3dHLbs",
      "include_colab_link": true
    },
    "kernelspec": {
      "name": "python3",
      "display_name": "Python 3"
    },
    "language_info": {
      "name": "python"
    }
  },
  "cells": [
    {
      "cell_type": "markdown",
      "metadata": {
        "id": "view-in-github",
        "colab_type": "text"
      },
      "source": [
        "<a href=\"https://colab.research.google.com/github/FindWhatYou/Python_Games/blob/main/HandmanTheGame.ipynb\" target=\"_parent\"><img src=\"https://colab.research.google.com/assets/colab-badge.svg\" alt=\"Open In Colab\"/></a>"
      ]
    },
    {
      "cell_type": "code",
      "source": [
        "from random import randrange\n",
        "list_of_words = ['LEARNING','PYTHON','CREATING','GAME']\n",
        "word = list_of_words[randrange(len(list_of_words))]\n",
        "hidden_word = '-'*len(word)\n",
        "print(f'Hidden word is: {hidden_word}')\n",
        "mistake_count = 6\n",
        "print('==============================================================')\n",
        "while mistake_count > 0 and hidden_word.count('-') != 0:\n",
        "    index_count = 0\n",
        "    letter_count = 0\n",
        "    \n",
        "    print('Pick a letter:')\n",
        "    picked_letter = input().capitalize()\n",
        "    for letter in word:\n",
        "        \n",
        "        if(picked_letter == letter):\n",
        "            hidden_word = hidden_word[:index_count] + picked_letter + hidden_word[index_count+1:]\n",
        "            letter_count += 1\n",
        "        index_count += 1\n",
        "    if(letter_count == 0):\n",
        "        mistake_count -= 1\n",
        "        print(f'WRONG! Number of mistakes left: {mistake_count}')\n",
        "        print(hangman[6 - mistake_count])\n",
        "    else:\n",
        "        print(f'CORRECT! There is a letter {picked_letter} in a secret word!')\n",
        "        print(hidden_word)\n",
        "    print('==============================================================')\n",
        "if(mistake_count == 0):\n",
        "    print('HANGED!!!')\n",
        "else:\n",
        "    print('CONGRATULATIONS!!!')"
      ],
      "metadata": {
        "id": "JoP37gekxr6m"
      },
      "execution_count": null,
      "outputs": []
    }
  ]
}